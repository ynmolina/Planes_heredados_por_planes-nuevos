{
 "cells": [
  {
   "cell_type": "markdown",
   "metadata": {},
   "source": [
    "# ¿Planes heredados o planes nuevos?\n",
    "\n",
    "La compañía móvil Megaline no está satisfecha al ver que muchos de sus clientes utilizan planes heredados. Quieren desarrollar un modelo que pueda analizar el comportamiento de los clientes y recomendar uno de los nuevos planes de Megaline: Smart o Ultra."
   ]
  },
  {
   "cell_type": "markdown",
   "metadata": {},
   "source": [
    "# Contents<a id='back'></a>\n",
    "\n",
    "* [Introducción](#intro)\n",
    "* [Inicialización](#inicializacion)\n",
    "* [Cargando datos](#cargando_datos)\n",
    "* [Explorando los datos](#explorando_datos_iniciales)\n",
    "* [Segmentación de datos](#segmentación_de_datos)\n",
    "* [Calidad de diferentes modelos](#calidad_de_diferentes_modelos)\n",
    "* [Comprobación la calidad del modelo](#comprueba_la_calidad_del_modelo)\n",
    "* [Prueba de cordura](#prueba_de_cordura)\n",
    "* [Conclusión general](#end)"
   ]
  },
  {
   "cell_type": "markdown",
   "metadata": {},
   "source": [
    "## Introducción <a id='intro'></a>\n",
    "**Propósito del proyecto**\n",
    "    \n",
    "   Crear un modelo que analice el comportamiento de los clientes y así recomendar al cliente el plan Smart o Ultra​.\n",
    "\n",
    "### Objetivos\n",
    "1. Investigar la calidad de diferentes modelos cambiando los hiperparámetros,\n",
    "2. Comprobar la calidad del modelo usando el conjunto de prueba,\n",
    "3. Realizar una prueba de cordura al modelo.\n",
    "\n",
    "[Volver a Contenidos](#back)"
   ]
  },
  {
   "cell_type": "markdown",
   "metadata": {},
   "source": [
    "## Inicialización <a id='inicializacion'></a>"
   ]
  },
  {
   "cell_type": "code",
   "execution_count": 1,
   "metadata": {},
   "outputs": [],
   "source": [
    "import pandas as pd\n",
    "import numpy as np\n",
    "import matplotlib.pyplot as plt\n",
    "from sklearn.tree import DecisionTreeClassifier\n",
    "from sklearn.ensemble import RandomForestClassifier\n",
    "from sklearn.linear_model import LogisticRegression\n",
    "from sklearn.metrics import accuracy_score\n",
    "from sklearn.model_selection import train_test_split\n",
    "from sklearn.dummy import DummyClassifier\n",
    "import seaborn as sns"
   ]
  },
  {
   "cell_type": "markdown",
   "metadata": {},
   "source": [
    "[Volver a Contenidos](#back)"
   ]
  },
  {
   "cell_type": "markdown",
   "metadata": {},
   "source": [
    "## Cargando los datos <a id='cargando_datos'></a>"
   ]
  },
  {
   "cell_type": "code",
   "execution_count": 2,
   "metadata": {},
   "outputs": [],
   "source": [
    "df = pd.read_csv('/datasets/users_behavior.csv')"
   ]
  },
  {
   "cell_type": "markdown",
   "metadata": {},
   "source": [
    "[Volver a Contenidos](#back)"
   ]
  },
  {
   "cell_type": "markdown",
   "metadata": {},
   "source": [
    "## Explorando los datos <a id='explorando_datos_iniciales'></a>"
   ]
  },
  {
   "cell_type": "markdown",
   "metadata": {},
   "source": [
    "**Descripción de datos**"
   ]
  },
  {
   "cell_type": "markdown",
   "metadata": {},
   "source": [
    "**Tabla Megaline**\n",
    "- `сalls` —  número de llamadas,\n",
    "- `minutes` —  duración total de la llamada en minutos,\n",
    "- `messages` —  número de mensajes de texto,\n",
    "- `mb_used` —  tráfico de Internet utilizado en MB,\n",
    "- `is_ultra` —  plan para el mes actual (Ultra - 1, Smart - 0)."
   ]
  },
  {
   "cell_type": "code",
   "execution_count": 3,
   "metadata": {},
   "outputs": [
    {
     "data": {
      "text/plain": [
       "(3214, 5)"
      ]
     },
     "execution_count": 3,
     "metadata": {},
     "output_type": "execute_result"
    }
   ],
   "source": [
    "df.shape"
   ]
  },
  {
   "cell_type": "code",
   "execution_count": 4,
   "metadata": {},
   "outputs": [
    {
     "name": "stdout",
     "output_type": "stream",
     "text": [
      "<class 'pandas.core.frame.DataFrame'>\n",
      "RangeIndex: 3214 entries, 0 to 3213\n",
      "Data columns (total 5 columns):\n",
      " #   Column    Non-Null Count  Dtype  \n",
      "---  ------    --------------  -----  \n",
      " 0   calls     3214 non-null   float64\n",
      " 1   minutes   3214 non-null   float64\n",
      " 2   messages  3214 non-null   float64\n",
      " 3   mb_used   3214 non-null   float64\n",
      " 4   is_ultra  3214 non-null   int64  \n",
      "dtypes: float64(4), int64(1)\n",
      "memory usage: 125.7 KB\n"
     ]
    }
   ],
   "source": [
    "# Imprimiendo la información general/resumen sobre el DataFrame de los planes\n",
    "df.info()"
   ]
  },
  {
   "cell_type": "code",
   "execution_count": 5,
   "metadata": {},
   "outputs": [
    {
     "data": {
      "text/html": [
       "<div>\n",
       "<style scoped>\n",
       "    .dataframe tbody tr th:only-of-type {\n",
       "        vertical-align: middle;\n",
       "    }\n",
       "\n",
       "    .dataframe tbody tr th {\n",
       "        vertical-align: top;\n",
       "    }\n",
       "\n",
       "    .dataframe thead th {\n",
       "        text-align: right;\n",
       "    }\n",
       "</style>\n",
       "<table border=\"1\" class=\"dataframe\">\n",
       "  <thead>\n",
       "    <tr style=\"text-align: right;\">\n",
       "      <th></th>\n",
       "      <th>calls</th>\n",
       "      <th>minutes</th>\n",
       "      <th>messages</th>\n",
       "      <th>mb_used</th>\n",
       "      <th>is_ultra</th>\n",
       "    </tr>\n",
       "  </thead>\n",
       "  <tbody>\n",
       "    <tr>\n",
       "      <th>count</th>\n",
       "      <td>3214.000000</td>\n",
       "      <td>3214.000000</td>\n",
       "      <td>3214.000000</td>\n",
       "      <td>3214.000000</td>\n",
       "      <td>3214.000000</td>\n",
       "    </tr>\n",
       "    <tr>\n",
       "      <th>mean</th>\n",
       "      <td>63.038892</td>\n",
       "      <td>438.208787</td>\n",
       "      <td>38.281269</td>\n",
       "      <td>17207.673836</td>\n",
       "      <td>0.306472</td>\n",
       "    </tr>\n",
       "    <tr>\n",
       "      <th>std</th>\n",
       "      <td>33.236368</td>\n",
       "      <td>234.569872</td>\n",
       "      <td>36.148326</td>\n",
       "      <td>7570.968246</td>\n",
       "      <td>0.461100</td>\n",
       "    </tr>\n",
       "    <tr>\n",
       "      <th>min</th>\n",
       "      <td>0.000000</td>\n",
       "      <td>0.000000</td>\n",
       "      <td>0.000000</td>\n",
       "      <td>0.000000</td>\n",
       "      <td>0.000000</td>\n",
       "    </tr>\n",
       "    <tr>\n",
       "      <th>25%</th>\n",
       "      <td>40.000000</td>\n",
       "      <td>274.575000</td>\n",
       "      <td>9.000000</td>\n",
       "      <td>12491.902500</td>\n",
       "      <td>0.000000</td>\n",
       "    </tr>\n",
       "    <tr>\n",
       "      <th>50%</th>\n",
       "      <td>62.000000</td>\n",
       "      <td>430.600000</td>\n",
       "      <td>30.000000</td>\n",
       "      <td>16943.235000</td>\n",
       "      <td>0.000000</td>\n",
       "    </tr>\n",
       "    <tr>\n",
       "      <th>75%</th>\n",
       "      <td>82.000000</td>\n",
       "      <td>571.927500</td>\n",
       "      <td>57.000000</td>\n",
       "      <td>21424.700000</td>\n",
       "      <td>1.000000</td>\n",
       "    </tr>\n",
       "    <tr>\n",
       "      <th>max</th>\n",
       "      <td>244.000000</td>\n",
       "      <td>1632.060000</td>\n",
       "      <td>224.000000</td>\n",
       "      <td>49745.730000</td>\n",
       "      <td>1.000000</td>\n",
       "    </tr>\n",
       "  </tbody>\n",
       "</table>\n",
       "</div>"
      ],
      "text/plain": [
       "             calls      minutes     messages       mb_used     is_ultra\n",
       "count  3214.000000  3214.000000  3214.000000   3214.000000  3214.000000\n",
       "mean     63.038892   438.208787    38.281269  17207.673836     0.306472\n",
       "std      33.236368   234.569872    36.148326   7570.968246     0.461100\n",
       "min       0.000000     0.000000     0.000000      0.000000     0.000000\n",
       "25%      40.000000   274.575000     9.000000  12491.902500     0.000000\n",
       "50%      62.000000   430.600000    30.000000  16943.235000     0.000000\n",
       "75%      82.000000   571.927500    57.000000  21424.700000     1.000000\n",
       "max     244.000000  1632.060000   224.000000  49745.730000     1.000000"
      ]
     },
     "execution_count": 5,
     "metadata": {},
     "output_type": "execute_result"
    }
   ],
   "source": [
    "df.describe()"
   ]
  },
  {
   "cell_type": "code",
   "execution_count": 6,
   "metadata": {},
   "outputs": [
    {
     "data": {
      "text/html": [
       "<div>\n",
       "<style scoped>\n",
       "    .dataframe tbody tr th:only-of-type {\n",
       "        vertical-align: middle;\n",
       "    }\n",
       "\n",
       "    .dataframe tbody tr th {\n",
       "        vertical-align: top;\n",
       "    }\n",
       "\n",
       "    .dataframe thead th {\n",
       "        text-align: right;\n",
       "    }\n",
       "</style>\n",
       "<table border=\"1\" class=\"dataframe\">\n",
       "  <thead>\n",
       "    <tr style=\"text-align: right;\">\n",
       "      <th></th>\n",
       "      <th>calls</th>\n",
       "      <th>minutes</th>\n",
       "      <th>messages</th>\n",
       "      <th>mb_used</th>\n",
       "      <th>is_ultra</th>\n",
       "    </tr>\n",
       "  </thead>\n",
       "  <tbody>\n",
       "    <tr>\n",
       "      <th>0</th>\n",
       "      <td>40.0</td>\n",
       "      <td>311.90</td>\n",
       "      <td>83.0</td>\n",
       "      <td>19915.42</td>\n",
       "      <td>0</td>\n",
       "    </tr>\n",
       "    <tr>\n",
       "      <th>1</th>\n",
       "      <td>85.0</td>\n",
       "      <td>516.75</td>\n",
       "      <td>56.0</td>\n",
       "      <td>22696.96</td>\n",
       "      <td>0</td>\n",
       "    </tr>\n",
       "    <tr>\n",
       "      <th>2</th>\n",
       "      <td>77.0</td>\n",
       "      <td>467.66</td>\n",
       "      <td>86.0</td>\n",
       "      <td>21060.45</td>\n",
       "      <td>0</td>\n",
       "    </tr>\n",
       "    <tr>\n",
       "      <th>3</th>\n",
       "      <td>106.0</td>\n",
       "      <td>745.53</td>\n",
       "      <td>81.0</td>\n",
       "      <td>8437.39</td>\n",
       "      <td>1</td>\n",
       "    </tr>\n",
       "    <tr>\n",
       "      <th>4</th>\n",
       "      <td>66.0</td>\n",
       "      <td>418.74</td>\n",
       "      <td>1.0</td>\n",
       "      <td>14502.75</td>\n",
       "      <td>0</td>\n",
       "    </tr>\n",
       "  </tbody>\n",
       "</table>\n",
       "</div>"
      ],
      "text/plain": [
       "   calls  minutes  messages   mb_used  is_ultra\n",
       "0   40.0   311.90      83.0  19915.42         0\n",
       "1   85.0   516.75      56.0  22696.96         0\n",
       "2   77.0   467.66      86.0  21060.45         0\n",
       "3  106.0   745.53      81.0   8437.39         1\n",
       "4   66.0   418.74       1.0  14502.75         0"
      ]
     },
     "execution_count": 6,
     "metadata": {},
     "output_type": "execute_result"
    }
   ],
   "source": [
    "# Imprime una muestra de los datos para los planes\n",
    "df.head()"
   ]
  },
  {
   "cell_type": "markdown",
   "metadata": {},
   "source": [
    "**Valores ausentes**"
   ]
  },
  {
   "cell_type": "code",
   "execution_count": 7,
   "metadata": {},
   "outputs": [
    {
     "data": {
      "text/plain": [
       "calls       0\n",
       "minutes     0\n",
       "messages    0\n",
       "mb_used     0\n",
       "is_ultra    0\n",
       "dtype: int64"
      ]
     },
     "execution_count": 7,
     "metadata": {},
     "output_type": "execute_result"
    }
   ],
   "source": [
    "df.isna().sum().sort_values(ascending=False)"
   ]
  },
  {
   "cell_type": "markdown",
   "metadata": {},
   "source": [
    "### Conclusión intermedia"
   ]
  },
  {
   "cell_type": "markdown",
   "metadata": {},
   "source": [
    " - **`DataFrame Megaline`** — la tabla tiene 5 columnas, 3.214 filas. Sin valores ausentes. Y valores duplicados no se puede corroborar al no tener un ID en el DataFrame."
   ]
  },
  {
   "cell_type": "markdown",
   "metadata": {},
   "source": [
    "[Volver a Contenidos](#back)"
   ]
  },
  {
   "cell_type": "markdown",
   "metadata": {},
   "source": [
    "### **Análisis de correlación**"
   ]
  },
  {
   "cell_type": "code",
   "execution_count": 8,
   "metadata": {},
   "outputs": [
    {
     "data": {
      "image/png": "[encoded data removed]",
      "text/plain": [
       "<Figure size 432x288 with 2 Axes>"
      ]
     },
     "metadata": {
      "needs_background": "light"
     },
     "output_type": "display_data"
    }
   ],
   "source": [
    "#Matriz de correlación \"Gráfico de calor\"\n",
    "factors = [\"calls\", \"minutes\", \"messages\", \"mb_used\"]\n",
    "sns.heatmap(df[factors].corr(), annot=True, cmap=\"YlOrBr\", vmax=1, vmin=-1)\n",
    "plt.title(\"heat chart\")\n",
    "plt.show()"
   ]
  },
  {
   "cell_type": "markdown",
   "metadata": {},
   "source": [
    "Las columnas **\"calls vs minutes\"** (correlación positiva) tienen una *correlación fuerte*."
   ]
  },
  {
   "cell_type": "markdown",
   "metadata": {},
   "source": [
    "Las columnas **\"calls vs messages\"** y **\"calls vs mb_used\"** (correlación positiva) tienen una *correlación débil*."
   ]
  },
  {
   "cell_type": "markdown",
   "metadata": {},
   "source": [
    "## Segmentación de datos <a id='segmentación_de_datos'></a>"
   ]
  },
  {
   "cell_type": "markdown",
   "metadata": {},
   "source": [
    "Segmentando los datos fuente en un conjunto de entrenamiento, validación y prueba."
   ]
  },
  {
   "cell_type": "code",
   "execution_count": 9,
   "metadata": {},
   "outputs": [],
   "source": [
    "#Features excluding 'is_ultra'\n",
    "features = df.drop(columns=['is_ultra'])\n",
    "\n",
    "#Target\n",
    "target = df['is_ultra']"
   ]
  },
  {
   "cell_type": "code",
   "execution_count": 10,
   "metadata": {},
   "outputs": [
    {
     "data": {
      "text/plain": [
       "(3214, 4)"
      ]
     },
     "execution_count": 10,
     "metadata": {},
     "output_type": "execute_result"
    }
   ],
   "source": [
    "features.shape"
   ]
  },
  {
   "cell_type": "code",
   "execution_count": 11,
   "metadata": {},
   "outputs": [
    {
     "data": {
      "text/plain": [
       "(3214,)"
      ]
     },
     "execution_count": 11,
     "metadata": {},
     "output_type": "execute_result"
    }
   ],
   "source": [
    "target.shape"
   ]
  },
  {
   "cell_type": "code",
   "execution_count": 12,
   "metadata": {},
   "outputs": [],
   "source": [
    "# División de datos en conjuntos de entrenamiento y validación\n",
    "random_seed = 200\n",
    "\n",
    "X_train, X_test, y_train, y_test = train_test_split(features,\n",
    "                                                    target,\n",
    "                                                    test_size = 0.2,\n",
    "                                                    random_state=random_seed)\n",
    "\n",
    "X_rtrain, X_valid, y_rtrain, y_valid  = train_test_split(X_train,\n",
    "                                                        y_train,\n",
    "                                                        test_size = 0.25,\n",
    "                                                        random_state=random_seed+1)"
   ]
  },
  {
   "cell_type": "code",
   "execution_count": 13,
   "metadata": {},
   "outputs": [
    {
     "name": "stdout",
     "output_type": "stream",
     "text": [
      "(2571, 4)\n",
      "(643, 4)\n",
      "(1928, 4)\n",
      "(643, 4)\n"
     ]
    }
   ],
   "source": [
    "for df in [X_train, X_test, X_rtrain, X_valid]:\n",
    "  print(df.shape)"
   ]
  },
  {
   "cell_type": "markdown",
   "metadata": {},
   "source": [
    "Vamos a entrenar al modelo con 2.571 observaciones, escoger los hiperparametros con 643 observaciones, entrenar al modelo con 1.928 observaciones y la muestra de prueba final con 643 observaciones."
   ]
  },
  {
   "cell_type": "markdown",
   "metadata": {},
   "source": [
    "[Volver a Contenidos](#back)"
   ]
  },
  {
   "cell_type": "markdown",
   "metadata": {},
   "source": [
    "## Calidad de diferentes modelos <a id='calidad_de_diferentes_modelos'></a>"
   ]
  },
  {
   "cell_type": "markdown",
   "metadata": {},
   "source": [
    "Investigando la calidad de los diferentes modelos cambiando los hiperparámetros"
   ]
  },
  {
   "cell_type": "markdown",
   "metadata": {},
   "source": [
    "### Modelo de árbol de decisión"
   ]
  },
  {
   "cell_type": "code",
   "execution_count": 14,
   "metadata": {},
   "outputs": [
    {
     "name": "stdout",
     "output_type": "stream",
     "text": [
      "Best max depth DT: 6\n",
      "Best accuracy score DT: 0.7963\n",
      "\n"
     ]
    }
   ],
   "source": [
    "random_seed = 200\n",
    "i = -1\n",
    "best_accuracy_score_DT = 0\n",
    "best_max_depth_DT = 0\n",
    "\n",
    "for max_depth in [2, 4, 6, 8, 10]:\n",
    "    model = DecisionTreeClassifier(random_state=random_seed + i,\n",
    "                                   max_depth=max_depth) # creando el modelo con pseudoaleatoriedad definida y profundidad proporcionada\n",
    "    model.fit(X_rtrain, y_rtrain) # entrenando el modelo \n",
    "    predictions = model.predict(X_valid) # obteniendo la predicción del modelo\n",
    "    accuracy = accuracy_score(y_valid, predictions) # calculando la exactitud\n",
    "\n",
    "    if accuracy > best_accuracy_score_DT:\n",
    "      best_max_depth_DT = max_depth\n",
    "      best_accuracy_score_DT = accuracy\n",
    "      best_model_DT = model\n",
    "\n",
    "print(f\"Best max depth DT: {best_max_depth_DT}\")\n",
    "print(f\"Best accuracy score DT: {round(best_accuracy_score_DT, 4)}\")\n",
    "print()"
   ]
  },
  {
   "cell_type": "markdown",
   "metadata": {},
   "source": [
    "**Conclusión intermedia**\n",
    "\n",
    "- **`Modelo de árbol de decisión`** — el mejor valor para el hiperparametro max_depth es seis y el mejor valor de exactitud es 0.79."
   ]
  },
  {
   "cell_type": "markdown",
   "metadata": {},
   "source": [
    "### Modelo de bosque aleatorio"
   ]
  },
  {
   "cell_type": "code",
   "execution_count": 15,
   "metadata": {},
   "outputs": [
    {
     "name": "stdout",
     "output_type": "stream",
     "text": [
      "Best max depth RF: 7\n",
      "Best n estimators RF: 10\n",
      "Best accuracy score RF: 0.8149\n",
      "\n"
     ]
    }
   ],
   "source": [
    "random_seed = 200\n",
    "i = -1\n",
    "best_accuracy_score_RF = 0\n",
    "best_max_depth_RF = 0\n",
    "best_n_estimators_RF = 0\n",
    "\n",
    "for max_depth in [5, 6, 7, 8]:\n",
    "  for n_estimators in [10, 25, 50, 100]:\n",
    "    model = RandomForestClassifier(random_state=random_seed + i,\n",
    "                                   n_estimators=n_estimators,\n",
    "                                   max_depth=max_depth) # creando el modelo con pseudoaleatoriedad definida, profundidad proporcionada y cantidad de árboles\n",
    "    model.fit(X_rtrain, y_rtrain) # entrenando el modelo \n",
    "    predictions = model.predict(X_valid) # obteniendo las predicciones del modelo\n",
    "    accuracy_ = accuracy_score(y_valid, predictions) # calculando la exactitud\n",
    "\n",
    "    if accuracy_ > best_accuracy_score_RF:\n",
    "      best_max_depth_RF = max_depth\n",
    "      best_n_estimators_RF = n_estimators\n",
    "      best_accuracy_score_RF = accuracy_\n",
    "      best_model_RF = model\n",
    "\n",
    "print(f\"Best max depth RF: {best_max_depth_RF}\")\n",
    "print(f\"Best n estimators RF: {best_n_estimators_RF}\")\n",
    "print(f\"Best accuracy score RF: {round(best_accuracy_score_RF, 4)}\")\n",
    "print()"
   ]
  },
  {
   "cell_type": "markdown",
   "metadata": {},
   "source": [
    "**Conclusión intermedia**\n",
    "\n",
    "- **`Modelo de bosque aleatorio`** — el mejor valor para el hiperparametro max_depth es siete, el mejor número de estimadores 10 y el mejor valor de exactitud es 0.81."
   ]
  },
  {
   "cell_type": "markdown",
   "metadata": {},
   "source": [
    "### Modelo de regresión logística"
   ]
  },
  {
   "cell_type": "code",
   "execution_count": 16,
   "metadata": {},
   "outputs": [
    {
     "name": "stdout",
     "output_type": "stream",
     "text": [
      "Best penalty: l1\n",
      "Best accuracy score LR: 0.7449\n",
      "\n"
     ]
    }
   ],
   "source": [
    "random_seed = 200\n",
    "i = -1\n",
    "best_accuracy_score_LR = 0\n",
    "best_penalty = None\n",
    "solver = \"liblinear\"\n",
    "\n",
    "for penalty in [\"l1\", \"l2\", \"none\"]:\n",
    "    if penalty == \"none\":\n",
    "        solver = \"saga\"\n",
    "    model = LogisticRegression(random_state=random_seed + i, solver=solver, penalty = penalty, max_iter = 10000) # inicializando el constructor de regresión logística con pseudoaleatoriedad definida, solver='liblinear', penalizadores e iteraciones (max-iter)\n",
    "    model.fit(X_rtrain, y_rtrain) # entrenando el modelo \n",
    "    predictions = model.predict(X_valid) # obteniendo las predicciones del modelo\n",
    "    accuracy_ = accuracy_score(y_valid, predictions) # calculando la exactitud\n",
    "\n",
    "    if accuracy_ > best_accuracy_score_LR:\n",
    "      best_accuracy_score_LR = accuracy_\n",
    "      best_penalty = penalty\n",
    "      best_model_LR = model\n",
    "\n",
    "print(f\"Best penalty: {best_penalty}\")\n",
    "print(f\"Best accuracy score LR: {round(best_accuracy_score_LR, 4)}\")\n",
    "print()"
   ]
  },
  {
   "cell_type": "markdown",
   "metadata": {},
   "source": [
    "**Conclusión intermedia**\n",
    "\n",
    "- **`Modelo de regresión logística`** — la mejor penalización es l1 y el mejor valor de exactitud es 0.75."
   ]
  },
  {
   "cell_type": "markdown",
   "metadata": {},
   "source": [
    "[Volver a Contenidos](#back)"
   ]
  },
  {
   "cell_type": "markdown",
   "metadata": {},
   "source": [
    "## Comprueba la calidad del modelo <a id='comprueba_la_calidad_del_modelo'></a>"
   ]
  },
  {
   "cell_type": "markdown",
   "metadata": {},
   "source": [
    "Comprobando la calidad del modelo usando el conjunto de prueba."
   ]
  },
  {
   "cell_type": "markdown",
   "metadata": {},
   "source": [
    "### Modelo de árbol de decisión"
   ]
  },
  {
   "cell_type": "code",
   "execution_count": 17,
   "metadata": {},
   "outputs": [
    {
     "name": "stdout",
     "output_type": "stream",
     "text": [
      "Valid accuracy score: 0.7963\n",
      "\n",
      "Test accuracy score: 0.7854\n"
     ]
    }
   ],
   "source": [
    "random_seed = 42\n",
    "\n",
    "test_preds = best_model_DT.predict(X_test)\n",
    "\n",
    "test_accuracy_DT = accuracy_score(y_test, test_preds) #Respuestas correctas y predicciones del modelo\n",
    "\n",
    "print(f\"Valid accuracy score: {round(best_accuracy_score_DT, 4)}\")\n",
    "print()\n",
    "print(f\"Test accuracy score: {round(test_accuracy_DT, 4)}\")"
   ]
  },
  {
   "cell_type": "markdown",
   "metadata": {},
   "source": [
    "**Conclusión intermedia**\n",
    "\n",
    "- **`Modelo de árbol de decisión`** — la exactitud entre ambos esta muy a la par; sin embargo, el modelo funciona mejor con el conjunto de entrenamiento."
   ]
  },
  {
   "cell_type": "markdown",
   "metadata": {},
   "source": [
    "### Modelo de bosque aleatorio"
   ]
  },
  {
   "cell_type": "code",
   "execution_count": 18,
   "metadata": {},
   "outputs": [
    {
     "name": "stdout",
     "output_type": "stream",
     "text": [
      "Valid accuracy score: 0.8149\n",
      "\n",
      "Test accuracy score: 0.7963\n"
     ]
    }
   ],
   "source": [
    "random_seed = 42\n",
    "\n",
    "test_preds = best_model_RF.predict(X_test)\n",
    "\n",
    "test_accuracy_RF = accuracy_score(y_test, test_preds)\n",
    "\n",
    "print(f\"Valid accuracy score: {round(best_accuracy_score_RF, 4)}\")\n",
    "print()\n",
    "print(f\"Test accuracy score: {round(test_accuracy_RF, 4)}\")"
   ]
  },
  {
   "cell_type": "markdown",
   "metadata": {},
   "source": [
    "**Conclusión intermedia**\n",
    "\n",
    "- **`Modelo de bosque aleatorio`** — la exactitud entre ambos esta muy a la par; sin embargo, igual que el modelo de árbol de decisión, el modelo funciona mejor con el conjunto de entrenamiento."
   ]
  },
  {
   "cell_type": "markdown",
   "metadata": {},
   "source": [
    "### Modelo de regresión logística"
   ]
  },
  {
   "cell_type": "code",
   "execution_count": 19,
   "metadata": {},
   "outputs": [
    {
     "name": "stdout",
     "output_type": "stream",
     "text": [
      "Valid accuracy score: 0.7449\n",
      "\n",
      "Test accuracy score: 0.7465\n"
     ]
    }
   ],
   "source": [
    "random_seed = 42\n",
    "\n",
    "test_preds = best_model_LR.predict(X_test)\n",
    "\n",
    "test_accuracy_LR = accuracy_score(y_test, test_preds)\n",
    "\n",
    "print(f\"Valid accuracy score: {round(best_accuracy_score_LR, 4)}\")\n",
    "print()\n",
    "print(f\"Test accuracy score: {round(test_accuracy_LR, 4)}\")"
   ]
  },
  {
   "cell_type": "markdown",
   "metadata": {},
   "source": [
    "**Conclusión intermedia**\n",
    "\n",
    "- **`Modelo de regresión logística`** — la exactitud entre ambos es similar; el modelo de regresión logistica, funciona bien."
   ]
  },
  {
   "cell_type": "markdown",
   "metadata": {},
   "source": [
    "[Volver a Contenidos](#back)"
   ]
  },
  {
   "cell_type": "markdown",
   "metadata": {},
   "source": [
    "## Prueba de cordura <a id='prueba_de_cordura'></a>"
   ]
  },
  {
   "cell_type": "code",
   "execution_count": 20,
   "metadata": {},
   "outputs": [],
   "source": [
    "#Creando el modelo\n",
    "dum_model = DummyClassifier(strategy='most_frequent')"
   ]
  },
  {
   "cell_type": "code",
   "execution_count": 21,
   "metadata": {},
   "outputs": [
    {
     "data": {
      "text/plain": [
       "DummyClassifier(strategy='most_frequent')"
      ]
     },
     "execution_count": 21,
     "metadata": {},
     "output_type": "execute_result"
    }
   ],
   "source": [
    "#Entrenando el modelo\n",
    "dum_model.fit(X_train, y_train)"
   ]
  },
  {
   "cell_type": "code",
   "execution_count": 22,
   "metadata": {},
   "outputs": [],
   "source": [
    "#Predicción del modelo\n",
    "y_dum =  dum_model.predict(X_test)"
   ]
  },
  {
   "cell_type": "code",
   "execution_count": 23,
   "metadata": {},
   "outputs": [
    {
     "data": {
      "text/plain": [
       "0.6749611197511665"
      ]
     },
     "execution_count": 23,
     "metadata": {},
     "output_type": "execute_result"
    }
   ],
   "source": [
    "#Exactitud del modelo\n",
    "accuracy_score(y_test, y_dum)"
   ]
  },
  {
   "cell_type": "code",
   "execution_count": 24,
   "metadata": {},
   "outputs": [
    {
     "data": {
      "text/plain": [
       "0.7853810264385692"
      ]
     },
     "execution_count": 24,
     "metadata": {},
     "output_type": "execute_result"
    }
   ],
   "source": [
    "test_accuracy_DT"
   ]
  },
  {
   "cell_type": "code",
   "execution_count": 25,
   "metadata": {},
   "outputs": [
    {
     "data": {
      "text/plain": [
       "0.7962674961119751"
      ]
     },
     "execution_count": 25,
     "metadata": {},
     "output_type": "execute_result"
    }
   ],
   "source": [
    "test_accuracy_RF"
   ]
  },
  {
   "cell_type": "code",
   "execution_count": 26,
   "metadata": {},
   "outputs": [
    {
     "data": {
      "text/plain": [
       "0.7465007776049767"
      ]
     },
     "execution_count": 26,
     "metadata": {},
     "output_type": "execute_result"
    }
   ],
   "source": [
    "test_accuracy_LR"
   ]
  },
  {
   "cell_type": "markdown",
   "metadata": {},
   "source": [
    "Los tres modelos si pasan la prueba de cordura, dummy 67.49%, vs. DT (árbol de decisión) 78.53%, RF (bosque aleatorio ) 79.62% y LR (regresión lineal) 74.65%"
   ]
  },
  {
   "cell_type": "markdown",
   "metadata": {},
   "source": [
    "[Volver a Contenidos](#back)"
   ]
  },
  {
   "cell_type": "markdown",
   "metadata": {},
   "source": [
    "## Conclusión general <a id='end'></a>"
   ]
  },
  {
   "cell_type": "markdown",
   "metadata": {},
   "source": [
    "\n",
    "\n",
    "[Volver a Contenidos](#back)"
   ]
  },
  {
   "cell_type": "markdown",
   "metadata": {},
   "source": [
    "1. Al conocer la calidad de los diferentes modelos, el modelo con mayor exactitud es el modelo de bosque aleatorio, seguido por el modelo de árbol de decisión y por último el modelo de regresión logística.\n",
    "2. Comprobando la calidad de los modelos usando el conjunto de prueba, se evidenció que el modelo de árbol de decisión y el de bosque aleatorio se ajustaron para la muestra de validación, pero no tanto para la muestra de prueba. A diferencia del modelo de regresión logística, que si se ajusta bien para ambos casos.\n",
    "3. Al realizar la prueba de cordura a los modelos, a pesar de lo mencionado en el punto dos, se comparó las métricas de los modelos con la métrica del modelo simple, y los tres modelos pasaron la prueba.\n",
    "\n",
    "Teniendo como conclusión final, que los tres modelos (el modelo de bosque aleatorio, el modelo de árbol de decisión y el modelo de regresión logística), son buenos modelos."
   ]
  },
  {
   "cell_type": "code",
   "execution_count": null,
   "metadata": {},
   "outputs": [],
   "source": []
  }
 ],
 "metadata": {
  "kernelspec": {
   "display_name": "Python 3 (ipykernel)",
   "language": "python",
   "name": "python3"
  },
  "language_info": {
   "codemirror_mode": {
    "name": "ipython",
    "version": 3
   },
   "file_extension": ".py",
   "mimetype": "text/x-python",
   "name": "python",
   "nbconvert_exporter": "python",
   "pygments_lexer": "ipython3",
   "version": "3.11.5"
  },
  "toc": {
   "base_numbering": 1,
   "nav_menu": {},
   "number_sections": true,
   "sideBar": true,
   "skip_h1_title": true,
   "title_cell": "Table of Contents",
   "title_sidebar": "Contents",
   "toc_cell": false,
   "toc_position": {
    "height": "calc(100% - 180px)",
    "left": "10px",
    "top": "150px",
    "width": "304.361px"
   },
   "toc_section_display": true,
   "toc_window_display": true
  }
 },
 "nbformat": 4,
 "nbformat_minor": 2
}
